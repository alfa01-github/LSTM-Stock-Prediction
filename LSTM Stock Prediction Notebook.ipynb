{
 "cells": [
  {
   "cell_type": "code",
   "execution_count": null,
   "metadata": {
    "_cell_guid": "b1076dfc-b9ad-4769-8c92-a6c4dae69d19",
    "_uuid": "8f2839f25d086af736a60e9eeb907d3b93b6e0e5",
    "execution": {
     "iopub.execute_input": "2022-10-26T18:23:54.970147Z",
     "iopub.status.busy": "2022-10-26T18:23:54.969212Z",
     "iopub.status.idle": "2022-10-26T18:24:05.406072Z",
     "shell.execute_reply": "2022-10-26T18:24:05.404937Z",
     "shell.execute_reply.started": "2022-10-26T18:23:54.970047Z"
    }
   },
   "outputs": [],
   "source": [
    "# Load some required libraries\n",
    "import pandas as pd\n",
    "import numpy as np\n",
    "import tensorflow.compat.v1 as tf\n",
    "import keras\n",
    "import matplotlib.pyplot as plt\n",
    "import math\n",
    "import time\n",
    "import warnings\n",
    "warnings.filterwarnings('ignore')\n",
    "plt.style.use('fivethirtyeight')\n",
    "from sklearn import metrics\n",
    "import numpy as np\n",
    "import pandas as pd\n",
    "import math\n",
    "import sklearn\n",
    "import sklearn.preprocessing\n",
    "import datetime\n",
    "import os\n",
    "import matplotlib.pyplot as plt\n",
    "import tensorflow as tf\n",
    "from tensorflow.keras.callbacks import EarlyStopping\n",
    "\n",
    "\n",
    "from keras.models import Sequential\n",
    "from keras.layers import Dense, Dropout, LSTM, GRU, Bidirectional\n",
    "from sklearn.metrics import mean_squared_error, r2_score\n",
    "from plotly import __version__\n",
    "from plotly.offline import download_plotlyjs, init_notebook_mode, plot, iplot\n",
    "import cufflinks as cf\n",
    "import plotly.offline as pyo\n",
    "cf.go_offline()\n",
    "pyo.init_notebook_mode()\n",
    "from sklearn.preprocessing import MinMaxScaler\n",
    "from sklearn.model_selection import train_test_split\n",
    "print(__version__)\n",
    "import os\n",
    "for dirname, _, filenames in os.walk('kaggle/input'):\n",
    "    for filename in filenames:\n",
    "        print(os.path.join(dirname, filename))"
   ]
  },
  {
   "cell_type": "markdown",
   "metadata": {},
   "source": [
    "# Loading our data"
   ]
  },
  {
   "cell_type": "code",
   "execution_count": null,
   "metadata": {
    "execution": {
     "iopub.execute_input": "2022-10-26T18:24:05.408945Z",
     "iopub.status.busy": "2022-10-26T18:24:05.408279Z",
     "iopub.status.idle": "2022-10-26T18:24:07.047403Z",
     "shell.execute_reply": "2022-10-26T18:24:07.046296Z",
     "shell.execute_reply.started": "2022-10-26T18:24:05.408902Z"
    }
   },
   "outputs": [],
   "source": [
    "df = pd.read_csv(\"../input/nyse/prices-split-adjusted.csv\")\n",
    "plot_x = df['date'].copy()\n",
    "df.set_index(\"date\", inplace = True)\n",
    "df.index = pd.to_datetime(df.index)\n",
    "df.head()\n"
   ]
  },
  {
   "cell_type": "markdown",
   "metadata": {},
   "source": [
    "# Checking for duplicates and null values"
   ]
  },
  {
   "cell_type": "code",
   "execution_count": null,
   "metadata": {
    "execution": {
     "iopub.execute_input": "2022-10-26T18:24:07.049099Z",
     "iopub.status.busy": "2022-10-26T18:24:07.048694Z",
     "iopub.status.idle": "2022-10-26T18:24:07.525537Z",
     "shell.execute_reply": "2022-10-26T18:24:07.5244Z",
     "shell.execute_reply.started": "2022-10-26T18:24:07.049065Z"
    }
   },
   "outputs": [],
   "source": [
    "#Check for duplicated values\n",
    "df.duplicated().sum()"
   ]
  },
  {
   "cell_type": "code",
   "execution_count": null,
   "metadata": {
    "execution": {
     "iopub.execute_input": "2022-10-26T18:24:07.52886Z",
     "iopub.status.busy": "2022-10-26T18:24:07.528065Z",
     "iopub.status.idle": "2022-10-26T18:24:08.030681Z",
     "shell.execute_reply": "2022-10-26T18:24:08.029374Z",
     "shell.execute_reply.started": "2022-10-26T18:24:07.528822Z"
    }
   },
   "outputs": [],
   "source": [
    "df.drop_duplicates(inplace=True)"
   ]
  },
  {
   "cell_type": "code",
   "execution_count": null,
   "metadata": {
    "execution": {
     "iopub.execute_input": "2022-10-26T18:24:08.034419Z",
     "iopub.status.busy": "2022-10-26T18:24:08.033213Z",
     "iopub.status.idle": "2022-10-26T18:24:08.088624Z",
     "shell.execute_reply": "2022-10-26T18:24:08.087391Z",
     "shell.execute_reply.started": "2022-10-26T18:24:08.03437Z"
    }
   },
   "outputs": [],
   "source": [
    "#Check for null values\n",
    "df.isna().sum()"
   ]
  },
  {
   "cell_type": "code",
   "execution_count": null,
   "metadata": {
    "execution": {
     "iopub.execute_input": "2022-10-26T18:24:08.090971Z",
     "iopub.status.busy": "2022-10-26T18:24:08.090135Z",
     "iopub.status.idle": "2022-10-26T18:24:08.18555Z",
     "shell.execute_reply": "2022-10-26T18:24:08.184296Z",
     "shell.execute_reply.started": "2022-10-26T18:24:08.090924Z"
    }
   },
   "outputs": [],
   "source": [
    "# Calculate the unique symbols\n",
    "symbols = list(set(df.symbol))\n",
    "len(symbols)"
   ]
  },
  {
   "cell_type": "code",
   "execution_count": null,
   "metadata": {},
   "outputs": [],
   "source": [
    "df['close'].plot(figsize=(12, 6))\n",
    "plt.title('Stock Prices')\n",
    "plt.xlabel('Date')\n",
    "plt.ylabel('Closing Price')\n",
    "plt.show()"
   ]
  },
  {
   "cell_type": "code",
   "execution_count": null,
   "metadata": {},
   "outputs": [],
   "source": [
    "df['volume'].hist(figsize=(12, 6))\n",
    "plt.title('Volume Distribution')\n",
    "plt.xlabel('Volume')\n",
    "plt.ylabel('Frequency')\n",
    "plt.show()"
   ]
  },
  {
   "cell_type": "markdown",
   "metadata": {},
   "source": [
    "# Preprocessing"
   ]
  },
  {
   "cell_type": "code",
   "execution_count": null,
   "metadata": {
    "execution": {
     "iopub.execute_input": "2022-10-26T18:24:08.188011Z",
     "iopub.status.busy": "2022-10-26T18:24:08.187306Z",
     "iopub.status.idle": "2022-10-26T18:24:09.038442Z",
     "shell.execute_reply": "2022-10-26T18:24:09.037262Z",
     "shell.execute_reply.started": "2022-10-26T18:24:08.187957Z"
    }
   },
   "outputs": [],
   "source": [
    "plt.figure(figsize=(15, 5));\n",
    "plt.subplot(1,2,1);\n",
    "plt.plot(df[df.symbol == 'EQIX'].open.values, color='red', label='open')\n",
    "plt.plot(df[df.symbol == 'EQIX'].close.values, color='green', label='close')\n",
    "plt.plot(df[df.symbol == 'EQIX'].low.values, color='blue', label='low')\n",
    "plt.plot(df[df.symbol == 'EQIX'].high.values, color='black', label='high')\n",
    "plt.title('stock price')\n",
    "plt.xlabel('time [days]')\n",
    "plt.ylabel('price')\n",
    "plt.legend(loc='best')\n",
    "#plt.show()\n",
    "\n",
    "plt.subplot(1,2,2);\n",
    "plt.plot(df[df.symbol == 'EQIX'].volume.values, color='black', label='volume')\n",
    "plt.title('stock volume')\n",
    "plt.xlabel('time [days]')\n",
    "plt.ylabel('volume')\n",
    "plt.legend(loc='best');"
   ]
  },
  {
   "cell_type": "code",
   "execution_count": null,
   "metadata": {
    "execution": {
     "iopub.execute_input": "2022-10-26T18:24:09.04017Z",
     "iopub.status.busy": "2022-10-26T18:24:09.039821Z",
     "iopub.status.idle": "2022-10-26T18:24:09.106092Z",
     "shell.execute_reply": "2022-10-26T18:24:09.104765Z",
     "shell.execute_reply.started": "2022-10-26T18:24:09.040136Z"
    }
   },
   "outputs": [],
   "source": [
    "df.symbol.value_counts()"
   ]
  },
  {
   "cell_type": "markdown",
   "metadata": {},
   "source": [
    "We will choose one specific stock to build our model so will choose **KSU** stock"
   ]
  },
  {
   "cell_type": "code",
   "execution_count": null,
   "metadata": {
    "execution": {
     "iopub.execute_input": "2022-10-26T18:24:09.108384Z",
     "iopub.status.busy": "2022-10-26T18:24:09.107874Z",
     "iopub.status.idle": "2022-10-26T18:24:09.187768Z",
     "shell.execute_reply": "2022-10-26T18:24:09.186291Z",
     "shell.execute_reply.started": "2022-10-26T18:24:09.108335Z"
    }
   },
   "outputs": [],
   "source": [
    "# Scaling\n",
    "# Selecting the stock with symbol 'KSU'\n",
    "KSU_stock = df[df['symbol'] == 'KSU']\n",
    "\n",
    "# Initialize the MinMaxScaler for feature scaling\n",
    "x_scaler = MinMaxScaler()\n",
    "y_scaler = MinMaxScaler()\n",
    "\n",
    "# Create a copy of the KSU stock dataframe\n",
    "KSU_df = KSU_stock.copy()\n",
    "\n",
    "# Remove the 'symbol' column from the dataframe\n",
    "KSU_df.drop(['symbol'], axis=1, inplace=True)\n",
    "\n",
    "# Separate the features (x) and the target variable (y)\n",
    "x = KSU_df[['open', 'low', 'high', 'volume']].copy()\n",
    "y = KSU_df['close'].copy()\n",
    "\n",
    "# Scale the features using the x_scaler\n",
    "x[['open', 'low', 'high', 'volume']] = x_scaler.fit_transform(x)\n",
    "\n",
    "# Reshape and scale the target variable using the y_scaler\n",
    "y = y_scaler.fit_transform(y.values.reshape(-1, 1))"
   ]
  },
  {
   "cell_type": "code",
   "execution_count": null,
   "metadata": {
    "execution": {
     "iopub.execute_input": "2022-10-26T18:24:09.191669Z",
     "iopub.status.busy": "2022-10-26T18:24:09.191273Z",
     "iopub.status.idle": "2022-10-26T18:24:09.214624Z",
     "shell.execute_reply": "2022-10-26T18:24:09.213358Z",
     "shell.execute_reply.started": "2022-10-26T18:24:09.191634Z"
    }
   },
   "outputs": [],
   "source": [
    "# Splitting\n",
    "# Function to load and split the data into train and test sets\n",
    "def load_data(X, seq_len, train_size=0.9):\n",
    "    amount_of_features = X.shape[1]\n",
    "    X_mat = X.values\n",
    "    sequence_length = seq_len + 1\n",
    "    data = []\n",
    "    \n",
    "    # Generate sequences of length seq_len + 1\n",
    "    for index in range(len(X_mat) - sequence_length):\n",
    "        data.append(X_mat[index: index + sequence_length])\n",
    "    \n",
    "    data = np.array(data)\n",
    "    \n",
    "    # Split the data into train and test sets based on train_size\n",
    "    train_split = int(round(train_size * data.shape[0]))\n",
    "    train_data = data[:train_split, :]\n",
    "    \n",
    "    # Split the train data into input features (x_train) and target variable (y_train)\n",
    "    x_train = train_data[:, :-1]\n",
    "    y_train = train_data[:, -1][:,-1]\n",
    "    \n",
    "    # Split the test data into input features (x_test) and target variable (y_test)\n",
    "    x_test = data[train_split:, :-1] \n",
    "    y_test = data[train_split:, -1][:,-1]\n",
    "\n",
    "    # Reshape the input features arrays\n",
    "    x_train = np.reshape(x_train, (x_train.shape[0], x_train.shape[1], amount_of_features))\n",
    "    x_test = np.reshape(x_test, (x_test.shape[0], x_test.shape[1], amount_of_features))  \n",
    "\n",
    "    return x_train, y_train, x_test, y_test\n",
    "\n",
    "# Define the window size\n",
    "window = 22\n",
    "\n",
    "# Add the 'close' column as the target variable to the feature matrix x\n",
    "x['close'] = y\n",
    "\n",
    "# Load and split the data using the load_data function\n",
    "X_train, y_train, X_test, y_test = load_data(x, window)\n",
    "\n",
    "# Print the shapes of the train and test sets\n",
    "print(X_train.shape, y_train.shape, X_test.shape, y_test.shape)\n"
   ]
  },
  {
   "cell_type": "markdown",
   "metadata": {},
   "source": [
    "### Visualize our KSU stock"
   ]
  },
  {
   "cell_type": "code",
   "execution_count": null,
   "metadata": {
    "execution": {
     "iopub.execute_input": "2022-10-26T18:24:09.216645Z",
     "iopub.status.busy": "2022-10-26T18:24:09.216275Z",
     "iopub.status.idle": "2022-10-26T18:24:09.492637Z",
     "shell.execute_reply": "2022-10-26T18:24:09.491436Z",
     "shell.execute_reply.started": "2022-10-26T18:24:09.216613Z"
    }
   },
   "outputs": [],
   "source": [
    "plt.figure(figsize=(15, 5));\n",
    "plt.plot(KSU_stock.open.values, color='red', label='open')\n",
    "plt.plot(KSU_stock.close.values, color='green', label='low')\n",
    "plt.plot(KSU_stock.low.values, color='blue', label='low')\n",
    "plt.plot(KSU_stock.high.values, color='black', label='high')\n",
    "\n",
    "#plt.plot(df_stock_norm.volume.values, color='gray', label='volume')\n",
    "plt.title('stock')\n",
    "plt.xlabel('time [days]')\n",
    "plt.ylabel('price/volume')\n",
    "plt.legend(loc='best')\n",
    "plt.show()"
   ]
  },
  {
   "cell_type": "markdown",
   "metadata": {},
   "source": [
    "# Modeling"
   ]
  },
  {
   "cell_type": "code",
   "execution_count": null,
   "metadata": {
    "execution": {
     "iopub.execute_input": "2022-10-26T18:24:50.63202Z",
     "iopub.status.busy": "2022-10-26T18:24:50.631605Z",
     "iopub.status.idle": "2022-10-26T18:30:04.875403Z",
     "shell.execute_reply": "2022-10-26T18:30:04.874076Z",
     "shell.execute_reply.started": "2022-10-26T18:24:50.631987Z"
    }
   },
   "outputs": [],
   "source": [
    "#LSTM architecture\n",
    "model = Sequential()\n",
    "# First LSTM layer with Dropout regularisation\n",
    "model.add(LSTM(units=50, input_shape=(window,5),return_sequences=True))\n",
    "model.add(Dropout(0.2))\n",
    "# Second LSTM layer\n",
    "model.add(LSTM(units=50,return_sequences=True))\n",
    "model.add(Dropout(0.2))\n",
    "# Third LSTM layer\n",
    "model.add(LSTM(units=50, return_sequences=True))\n",
    "model.add(Dropout(0.2))\n",
    "# Fourth LSTM layer\n",
    "model.add(LSTM(units=50))\n",
    "model.add(Dropout(0.5))\n",
    "# The output layer\n",
    "model.add(Dense(units=50, kernel_initializer='uniform', activation='tanh'))\n",
    "model.add(Dense(units=1, kernel_initializer='uniform', activation='linear'))\n",
    "\n",
    "earlystop = EarlyStopping(monitor='val_loss', mode='min', verbose=1, patience=50)\n",
    "callbacks_list = [earlystop]\n",
    "\n",
    "# Compiling the RNN\n",
    "model.compile(optimizer='adam',loss='mean_squared_error')\n",
    "# Fitting to the training set\n",
    "start = time.time()\n",
    "LSTM=model.fit(X_train,y_train,epochs=100,batch_size=35, validation_split=0.05, verbose=1,callbacks=callbacks_list)\n",
    "print ('compilation time : ', time.time() - start)"
   ]
  },
  {
   "cell_type": "code",
   "execution_count": null,
   "metadata": {
    "execution": {
     "iopub.execute_input": "2022-10-26T18:30:29.39632Z",
     "iopub.status.busy": "2022-10-26T18:30:29.395846Z",
     "iopub.status.idle": "2022-10-26T18:30:29.405494Z",
     "shell.execute_reply": "2022-10-26T18:30:29.403588Z",
     "shell.execute_reply.started": "2022-10-26T18:30:29.396281Z"
    }
   },
   "outputs": [],
   "source": [
    "model.summary()"
   ]
  },
  {
   "cell_type": "code",
   "execution_count": null,
   "metadata": {
    "execution": {
     "iopub.execute_input": "2022-10-26T18:30:31.791531Z",
     "iopub.status.busy": "2022-10-26T18:30:31.791053Z",
     "iopub.status.idle": "2022-10-26T18:30:32.367Z",
     "shell.execute_reply": "2022-10-26T18:30:32.365668Z",
     "shell.execute_reply.started": "2022-10-26T18:30:31.791492Z"
    }
   },
   "outputs": [],
   "source": [
    "%matplotlib inline\n",
    "losses = pd.DataFrame(LSTM.history)\n",
    "losses.plot()"
   ]
  },
  {
   "cell_type": "markdown",
   "metadata": {},
   "source": [
    "# Prediction"
   ]
  },
  {
   "cell_type": "code",
   "execution_count": null,
   "metadata": {
    "execution": {
     "iopub.execute_input": "2022-10-26T18:31:26.603125Z",
     "iopub.status.busy": "2022-10-26T18:31:26.602706Z",
     "iopub.status.idle": "2022-10-26T18:31:29.588946Z",
     "shell.execute_reply": "2022-10-26T18:31:29.587697Z",
     "shell.execute_reply.started": "2022-10-26T18:31:26.603089Z"
    }
   },
   "outputs": [],
   "source": [
    "# Perform predictions on the training and test sets\n",
    "trainPredict = model.predict(X_train)\n",
    "testPredict = model.predict(X_test)\n",
    "\n",
    "# Inverse transform the scaled predictions to obtain actual values\n",
    "trainPredict = y_scaler.inverse_transform(trainPredict)\n",
    "trainY = y_scaler.inverse_transform([y_train])\n",
    "testPredict = y_scaler.inverse_transform(testPredict)\n",
    "testY = y_scaler.inverse_transform([y_test])"
   ]
  },
  {
   "cell_type": "code",
   "execution_count": null,
   "metadata": {
    "execution": {
     "iopub.execute_input": "2022-10-26T18:31:29.592475Z",
     "iopub.status.busy": "2022-10-26T18:31:29.591744Z",
     "iopub.status.idle": "2022-10-26T18:31:29.599578Z",
     "shell.execute_reply": "2022-10-26T18:31:29.59828Z",
     "shell.execute_reply.started": "2022-10-26T18:31:29.592435Z"
    }
   },
   "outputs": [],
   "source": [
    "# Reshape the predicted and actual values for plotting\n",
    "plot_predicted = testPredict.copy()\n",
    "plot_predicted = plot_predicted.reshape(174, 1)\n",
    "plot_actual = testY.copy()\n",
    "plot_actual = plot_actual.reshape(174, 1)\n",
    "\n",
    "# Print the shapes of the reshaped arrays for verification\n",
    "print(plot_actual.shape)\n",
    "print(plot_predicted.shape)"
   ]
  },
  {
   "cell_type": "code",
   "execution_count": null,
   "metadata": {
    "execution": {
     "iopub.execute_input": "2022-10-26T18:31:29.601612Z",
     "iopub.status.busy": "2022-10-26T18:31:29.601239Z",
     "iopub.status.idle": "2022-10-26T18:31:29.887682Z",
     "shell.execute_reply": "2022-10-26T18:31:29.886298Z",
     "shell.execute_reply.started": "2022-10-26T18:31:29.601577Z"
    }
   },
   "outputs": [],
   "source": [
    "# Create a figure with a specific size for the plot\n",
    "plt.figure(figsize=(20, 7))\n",
    "# Convert the plot_x variable to datetime format\n",
    "plot_x = pd.to_datetime(plot_x.iloc[-174:])\n",
    "# Plot the predicted values\n",
    "plt.plot(pd.DataFrame(plot_predicted), label='Predicted')\n",
    "# Plot the actual values\n",
    "plt.plot(pd.DataFrame(plot_actual), label='Actual')\n",
    "# Add a legend to the plot\n",
    "plt.legend(loc='best')\n",
    "# Display the plot\n",
    "plt.show()"
   ]
  },
  {
   "cell_type": "code",
   "execution_count": null,
   "metadata": {
    "execution": {
     "iopub.execute_input": "2022-10-26T18:31:29.890677Z",
     "iopub.status.busy": "2022-10-26T18:31:29.890297Z",
     "iopub.status.idle": "2022-10-26T18:31:29.899617Z",
     "shell.execute_reply": "2022-10-26T18:31:29.8984Z",
     "shell.execute_reply.started": "2022-10-26T18:31:29.890643Z"
    }
   },
   "outputs": [],
   "source": [
    "trainScore = metrics.mean_squared_error(trainY[0], trainPredict[:,0]) ** .5\n",
    "print('Train Score: %.2f RMSE' % (trainScore))\n",
    "testScore = metrics.mean_squared_error(testY[0], testPredict[:,0]) ** .5\n",
    "print('Test Score: %.2f RMSE' % (testScore))"
   ]
  },
  {
   "cell_type": "code",
   "execution_count": null,
   "metadata": {
    "execution": {
     "iopub.execute_input": "2022-10-26T18:31:29.903764Z",
     "iopub.status.busy": "2022-10-26T18:31:29.903335Z",
     "iopub.status.idle": "2022-10-26T18:31:29.91038Z",
     "shell.execute_reply": "2022-10-26T18:31:29.909252Z",
     "shell.execute_reply.started": "2022-10-26T18:31:29.903726Z"
    }
   },
   "outputs": [],
   "source": [
    "KSU_stock_prices = KSU_stock.close.values.astype('float32')\n",
    "KSU_stock_prices = KSU_stock_prices.reshape(len(KSU_stock_prices), 1)"
   ]
  },
  {
   "cell_type": "code",
   "execution_count": null,
   "metadata": {
    "execution": {
     "iopub.execute_input": "2022-10-26T18:31:29.912499Z",
     "iopub.status.busy": "2022-10-26T18:31:29.912063Z",
     "iopub.status.idle": "2022-10-26T18:31:29.923061Z",
     "shell.execute_reply": "2022-10-26T18:31:29.921729Z",
     "shell.execute_reply.started": "2022-10-26T18:31:29.912462Z"
    }
   },
   "outputs": [],
   "source": [
    "# Create an empty array of the same shape as KSU_stock_prices for the train predictions plot\n",
    "trainPredictPlot = np.empty_like(KSU_stock_prices)\n",
    "trainPredictPlot[:, :] = np.nan\n",
    "# Set the predicted values in the trainPredictPlot array\n",
    "trainPredictPlot[22:len(trainPredict)+22, :] = trainPredict\n",
    "# Create an empty array of the same shape as KSU_stock_prices for the test predictions plot\n",
    "testPredictPlot = np.empty_like(KSU_stock_prices)\n",
    "testPredictPlot[:, :] = np.nan\n",
    "# Set the predicted values in the testPredictPlot array\n",
    "testPredictPlot[(len(KSU_stock_prices) - testPredict.shape[0]):len(KSU_stock_prices), :] = testPredict"
   ]
  },
  {
   "cell_type": "code",
   "execution_count": null,
   "metadata": {
    "execution": {
     "iopub.execute_input": "2022-10-26T18:31:29.925086Z",
     "iopub.status.busy": "2022-10-26T18:31:29.924715Z",
     "iopub.status.idle": "2022-10-26T18:31:30.237917Z",
     "shell.execute_reply": "2022-10-26T18:31:30.236586Z",
     "shell.execute_reply.started": "2022-10-26T18:31:29.925052Z"
    }
   },
   "outputs": [],
   "source": [
    "plt.figure(figsize=(20,7))\n",
    "plt.plot(pd.DataFrame(KSU_stock_prices, columns=[\"close\"], index=KSU_df.index).close, label='Actual')\n",
    "plt.plot(pd.DataFrame(trainPredictPlot, columns=[\"close\"], index=KSU_df.index).close, label='Training')\n",
    "plt.plot(pd.DataFrame(testPredictPlot, columns=[\"close\"], index=KSU_df.index).close, label='Testing')\n",
    "plt.legend(loc='best')\n",
    "plt.show()"
   ]
  },
  {
   "cell_type": "code",
   "execution_count": null,
   "metadata": {
    "execution": {
     "iopub.execute_input": "2022-10-26T18:31:30.239867Z",
     "iopub.status.busy": "2022-10-26T18:31:30.23948Z",
     "iopub.status.idle": "2022-10-26T18:31:30.294864Z",
     "shell.execute_reply": "2022-10-26T18:31:30.293351Z",
     "shell.execute_reply.started": "2022-10-26T18:31:30.239831Z"
    }
   },
   "outputs": [],
   "source": [
    "model.save('./Final_LSTM_model.h5')"
   ]
  }
 ],
 "metadata": {
  "kernelspec": {
   "display_name": "Python 3 (ipykernel)",
   "language": "python",
   "name": "python3"
  },
  "language_info": {
   "codemirror_mode": {
    "name": "ipython",
    "version": 3
   },
   "file_extension": ".py",
   "mimetype": "text/x-python",
   "name": "python",
   "nbconvert_exporter": "python",
   "pygments_lexer": "ipython3",
   "version": "3.10.8"
  }
 },
 "nbformat": 4,
 "nbformat_minor": 4
}
